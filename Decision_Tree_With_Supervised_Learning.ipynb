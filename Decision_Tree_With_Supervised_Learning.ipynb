{
  "nbformat": 4,
  "nbformat_minor": 0,
  "metadata": {
    "colab": {
      "provenance": [],
      "toc_visible": true,
      "include_colab_link": true
    },
    "kernelspec": {
      "name": "python3",
      "display_name": "Python 3"
    },
    "language_info": {
      "name": "python"
    }
  },
  "cells": [
    {
      "cell_type": "markdown",
      "metadata": {
        "id": "view-in-github",
        "colab_type": "text"
      },
      "source": [
        "<a href=\"https://colab.research.google.com/github/mvincentbb/CEREBRO_AI_PROJECT/blob/main/Decision_Tree_With_Supervised_Learning.ipynb\" target=\"_parent\"><img src=\"https://colab.research.google.com/assets/colab-badge.svg\" alt=\"Open In Colab\"/></a>"
      ]
    },
    {
      "cell_type": "markdown",
      "source": [
        "## Descision Tree Classifier Wiht Supervised Learning\n",
        "\n",
        "### What is Supervised Learning:\n",
        "\n",
        "### What is Decision Tree Classifier:\n",
        "A decision tree is a supervised machine learning algorithm that is a flowchart-like tree structure where it predicts the value of a target variable by learning simple decision rules inferred from the data features(or attributes). The internal node represents a feature(or attribute), the branch represents a decision rule, and each leaf node represents the outcome.\n",
        "\n",
        "The topmost node in a decision tree is known as the root node. It learns to partition on the basis of the attribute value.\n",
        "Read more:\n",
        "\n",
        "1.https://scikit-learn.org/stable/modules/tree.html\n",
        "\n",
        "2.https://www.datacamp.com/tutorial/decision-tree-classification-python"
      ],
      "metadata": {
        "id": "UgY7i3yKOX5A"
      }
    },
    {
      "cell_type": "markdown",
      "source": [
        "### Importing Needed Libraries\n",
        "Here every library I will try to mention why I imported it and what am I going to use from it.\n",
        "I always like to start by placing my libraries on top so I can easily navigate back to them (others can use their own favorite approaches)\n",
        "\n",
        "##### 1.pandas:\n",
        "pandas is a highly used Python library in data science, and it is due to its high ability to handle big data and analyze it. It also It has functions for cleaning, exploring, and manipulating data. Read more:\n",
        "https://www.w3schools.com/python/pandas/default.asp\n",
        "\n",
        "##### 2.seaborn:\n",
        "Seaborn is a library for making statistical graphics in Python. It builds on top of matplotlib and integrates closely with pandas data structures. Read more:\n",
        " https://seaborn.pydata.org/tutorial/introduction.html\n",
        "\n",
        "##### 3.sklearn:\n",
        "Scikit-learn is an open source data analysis library, and the gold standard for Machine Learning (ML) in the Python ecosystem. Key concepts and features include:\n",
        "\n",
        "Algorithmic decision-making methods, including: *Classification: identifying and categorizing data based on patterns. *Regression: predicting or projecting data values based on the average mean of existing and planned data. *Clustering: automatic grouping of similar data into datasets.\n",
        "Algorithms that support predictive analysis ranging from simple linear regression to neural network pattern recognition.\n",
        "Interoperability with NumPy, pandas, and matplotlib libraries.\n",
        "Read more:\n",
        "\n",
        "1.https://scikit-learn.org/stable/\n",
        "\n",
        "2.https://www.activestate.com/resources/quick-reads/what-is-scikit-learn-in-python/\n"
      ],
      "metadata": {
        "id": "4ELfB5cYR7pI"
      }
    },
    {
      "cell_type": "code",
      "execution_count": null,
      "metadata": {
        "id": "lyKMIblvOMXr"
      },
      "outputs": [],
      "source": [
        "import pandas as pd\n",
        "import seaborn as sns\n",
        "from sklearn.model_selection import train_test_split\n",
        "from sklearn.tree import DecisionTreeClassifier\n",
        "from sklearn.metrics import accuracy_score\n",
        "from sklearn.metrics import f1_score\n",
        "from sklearn.metrics import confusion_matrix\n",
        "from sklearn.metrics import classification_report\n",
        "from sklearn.metrics import ConfusionMatrixDisplay"
      ]
    },
    {
      "cell_type": "code",
      "source": [],
      "metadata": {
        "id": "v1cFpax2OXeC",
        "outputId": "526e3583-3139-4333-ee7a-0c879dd48bdc",
        "colab": {
          "base_uri": "https://localhost:8080/"
        }
      },
      "execution_count": 1,
      "outputs": [
        {
          "output_type": "stream",
          "name": "stdout",
          "text": [
            "10\n"
          ]
        }
      ]
    }
  ]
}